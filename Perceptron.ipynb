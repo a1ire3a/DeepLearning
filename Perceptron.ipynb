{
  "nbformat": 4,
  "nbformat_minor": 0,
  "metadata": {
    "colab": {
      "name": "Perceptron.ipynb",
      "provenance": [],
      "authorship_tag": "ABX9TyPhqjM0zzyVnbO8GuNVcvb/",
      "include_colab_link": true
    },
    "kernelspec": {
      "name": "python3",
      "display_name": "Python 3"
    },
    "language_info": {
      "name": "python"
    }
  },
  "cells": [
    {
      "cell_type": "markdown",
      "metadata": {
        "id": "view-in-github",
        "colab_type": "text"
      },
      "source": [
        "<a href=\"https://colab.research.google.com/github/a1ire3a/a1ire3a/blob/main/Perceptron.ipynb\" target=\"_parent\"><img src=\"https://colab.research.google.com/assets/colab-badge.svg\" alt=\"Open In Colab\"/></a>"
      ]
    },
    {
      "cell_type": "code",
      "metadata": {
        "id": "HoNoIRHwl0IY"
      },
      "source": [
        "import numpy as np\n",
        "import pandas as pd\n",
        "from sklearn import datasets\n",
        "from sklearn.model_selection import train_test_split\n",
        "from sklearn.linear_model import Perceptron\n",
        "from sklearn import metrics\n",
        "from sklearn import preprocessing"
      ],
      "execution_count": null,
      "outputs": []
    },
    {
      "cell_type": "markdown",
      "metadata": {
        "id": "ag9ONPVdme5I"
      },
      "source": [
        "loading recommended library"
      ]
    },
    {
      "cell_type": "code",
      "metadata": {
        "id": "Z-RmByX1mhrt"
      },
      "source": [
        "iris = datasets.load_iris()\n",
        "X = iris['data']\n",
        "y = iris['target']\n",
        "acc = np.zeros(10)\n",
        "pre = np.zeros(10)\n",
        "rec = np.zeros(10)\n",
        "f1 = np.zeros(10)"
      ],
      "execution_count": null,
      "outputs": []
    },
    {
      "cell_type": "markdown",
      "metadata": {
        "id": "iRtkROJqmkQJ"
      },
      "source": [
        "loading iris datasets and seprate data and target to X and y initial empty numpy array with 1 dimension and 10 member for 10 accuracy result"
      ]
    },
    {
      "cell_type": "code",
      "metadata": {
        "id": "8v4Qy536moqs"
      },
      "source": [
        "std_scaler = preprocessing.StandardScaler()\n",
        "X_std = std_scaler.fit_transform(X)"
      ],
      "execution_count": null,
      "outputs": []
    },
    {
      "cell_type": "markdown",
      "metadata": {
        "id": "ZG5vgTdgmrHv"
      },
      "source": [
        "normalaized data between 0 to 1 for better result"
      ]
    },
    {
      "cell_type": "code",
      "metadata": {
        "id": "oLB_KNBBmtnX"
      },
      "source": [
        "for i in range(10):\n",
        "    X_train, X_test, y_train, y_test = train_test_split(X_std, y, test_size=0.3)\n",
        "    clf = Perceptron(alpha=0.00000001, class_weight=\"balanced\")\n",
        "    clf.fit(X_train, y_train)\n",
        "    y_predict = clf.predict(X_test)\n",
        "    acc[i] = metrics.accuracy_score(y_test, y_predict)\n",
        "    pre[i] = metrics.precision_score(y_test, y_predict, average='macro')\n",
        "    rec[i] = metrics.recall_score(y_test, y_predict, average='macro')\n",
        "    f1[i] = metrics.f1_score(y_test, y_predict, average='macro')"
      ],
      "execution_count": null,
      "outputs": []
    },
    {
      "cell_type": "markdown",
      "metadata": {
        "id": "xHhXRClCmwDC"
      },
      "source": [
        "run 10 time split the datasets to train and test with 70% ratio initial perceptron class and fit linear model with stochastic gradient descent fill accuracy array with score of accuracy between target test and predict result"
      ]
    },
    {
      "cell_type": "code",
      "metadata": {
        "colab": {
          "base_uri": "https://localhost:8080/"
        },
        "id": "TaZL49dumyl4",
        "outputId": "fc2473ef-08c0-4318-e066-4131824a21c8"
      },
      "source": [
        "print(\"average and standard deviation accuracy:\", round(np.average(acc), 2), \" ± \", round(np.std(acc), 2))\n",
        "print(\"average and standard deviation percision:\", round(np.average(pre), 2), \" ± \", round(np.std(pre), 2))\n",
        "print(\"average and standard deviation recall:\", round(np.average(rec), 2), \" ± \", round(np.std(rec), 2))\n",
        "print(\"average and standard deviation f1:\", round(np.average(f1), 2), \" ± \", round(np.std(f1), 2))"
      ],
      "execution_count": null,
      "outputs": [
        {
          "output_type": "stream",
          "name": "stdout",
          "text": [
            "average and standard deviation accuracy: 0.84  ±  0.08\n",
            "average and standard deviation percision: 0.85  ±  0.07\n",
            "average and standard deviation recall: 0.84  ±  0.07\n",
            "average and standard deviation f1: 0.83  ±  0.08\n"
          ]
        }
      ]
    },
    {
      "cell_type": "markdown",
      "metadata": {
        "id": "ZIFxzwQeLZzG"
      },
      "source": [
        "print the average of accuracy with standard deviation in 10 run and calculate percision, recall and f1"
      ]
    },
    {
      "cell_type": "code",
      "metadata": {
        "colab": {
          "base_uri": "https://localhost:8080/",
          "height": 195
        },
        "id": "bcZWDmT4sTfP",
        "outputId": "a0e38bc2-aa8e-4c69-c8f9-63645de77c45"
      },
      "source": [
        "df = pd.DataFrame([acc,pre,rec,f1],\n",
        "                  index=pd.Index(['Accuracy', 'Precision', 'Recall', 'f1']),\n",
        "                  )\n",
        "df.style"
      ],
      "execution_count": null,
      "outputs": [
        {
          "output_type": "execute_result",
          "data": {
            "text/html": [
              "<style  type=\"text/css\" >\n",
              "</style><table id=\"T_8591d9b0_51c4_11ec_b442_0242ac1c0002\" class=\"dataframe\"><thead>    <tr>        <th class=\"blank level0\" ></th>        <th class=\"col_heading level0 col0\" >0</th>        <th class=\"col_heading level0 col1\" >1</th>        <th class=\"col_heading level0 col2\" >2</th>        <th class=\"col_heading level0 col3\" >3</th>        <th class=\"col_heading level0 col4\" >4</th>        <th class=\"col_heading level0 col5\" >5</th>        <th class=\"col_heading level0 col6\" >6</th>        <th class=\"col_heading level0 col7\" >7</th>        <th class=\"col_heading level0 col8\" >8</th>        <th class=\"col_heading level0 col9\" >9</th>    </tr></thead><tbody>\n",
              "                <tr>\n",
              "                        <th id=\"T_8591d9b0_51c4_11ec_b442_0242ac1c0002level0_row0\" class=\"row_heading level0 row0\" >Accuracy</th>\n",
              "                        <td id=\"T_8591d9b0_51c4_11ec_b442_0242ac1c0002row0_col0\" class=\"data row0 col0\" >0.866667</td>\n",
              "                        <td id=\"T_8591d9b0_51c4_11ec_b442_0242ac1c0002row0_col1\" class=\"data row0 col1\" >0.666667</td>\n",
              "                        <td id=\"T_8591d9b0_51c4_11ec_b442_0242ac1c0002row0_col2\" class=\"data row0 col2\" >0.933333</td>\n",
              "                        <td id=\"T_8591d9b0_51c4_11ec_b442_0242ac1c0002row0_col3\" class=\"data row0 col3\" >0.800000</td>\n",
              "                        <td id=\"T_8591d9b0_51c4_11ec_b442_0242ac1c0002row0_col4\" class=\"data row0 col4\" >0.911111</td>\n",
              "                        <td id=\"T_8591d9b0_51c4_11ec_b442_0242ac1c0002row0_col5\" class=\"data row0 col5\" >0.800000</td>\n",
              "                        <td id=\"T_8591d9b0_51c4_11ec_b442_0242ac1c0002row0_col6\" class=\"data row0 col6\" >0.866667</td>\n",
              "                        <td id=\"T_8591d9b0_51c4_11ec_b442_0242ac1c0002row0_col7\" class=\"data row0 col7\" >0.933333</td>\n",
              "                        <td id=\"T_8591d9b0_51c4_11ec_b442_0242ac1c0002row0_col8\" class=\"data row0 col8\" >0.800000</td>\n",
              "                        <td id=\"T_8591d9b0_51c4_11ec_b442_0242ac1c0002row0_col9\" class=\"data row0 col9\" >0.822222</td>\n",
              "            </tr>\n",
              "            <tr>\n",
              "                        <th id=\"T_8591d9b0_51c4_11ec_b442_0242ac1c0002level0_row1\" class=\"row_heading level0 row1\" >Precision</th>\n",
              "                        <td id=\"T_8591d9b0_51c4_11ec_b442_0242ac1c0002row1_col0\" class=\"data row1 col0\" >0.872222</td>\n",
              "                        <td id=\"T_8591d9b0_51c4_11ec_b442_0242ac1c0002row1_col1\" class=\"data row1 col1\" >0.691448</td>\n",
              "                        <td id=\"T_8591d9b0_51c4_11ec_b442_0242ac1c0002row1_col2\" class=\"data row1 col2\" >0.931548</td>\n",
              "                        <td id=\"T_8591d9b0_51c4_11ec_b442_0242ac1c0002row1_col3\" class=\"data row1 col3\" >0.835227</td>\n",
              "                        <td id=\"T_8591d9b0_51c4_11ec_b442_0242ac1c0002row1_col4\" class=\"data row1 col4\" >0.895299</td>\n",
              "                        <td id=\"T_8591d9b0_51c4_11ec_b442_0242ac1c0002row1_col5\" class=\"data row1 col5\" >0.801619</td>\n",
              "                        <td id=\"T_8591d9b0_51c4_11ec_b442_0242ac1c0002row1_col6\" class=\"data row1 col6\" >0.850000</td>\n",
              "                        <td id=\"T_8591d9b0_51c4_11ec_b442_0242ac1c0002row1_col7\" class=\"data row1 col7\" >0.956522</td>\n",
              "                        <td id=\"T_8591d9b0_51c4_11ec_b442_0242ac1c0002row1_col8\" class=\"data row1 col8\" >0.831871</td>\n",
              "                        <td id=\"T_8591d9b0_51c4_11ec_b442_0242ac1c0002row1_col9\" class=\"data row1 col9\" >0.825968</td>\n",
              "            </tr>\n",
              "            <tr>\n",
              "                        <th id=\"T_8591d9b0_51c4_11ec_b442_0242ac1c0002level0_row2\" class=\"row_heading level0 row2\" >Recall</th>\n",
              "                        <td id=\"T_8591d9b0_51c4_11ec_b442_0242ac1c0002row2_col0\" class=\"data row2 col0\" >0.900000</td>\n",
              "                        <td id=\"T_8591d9b0_51c4_11ec_b442_0242ac1c0002row2_col1\" class=\"data row2 col1\" >0.663462</td>\n",
              "                        <td id=\"T_8591d9b0_51c4_11ec_b442_0242ac1c0002row2_col2\" class=\"data row2 col2\" >0.935143</td>\n",
              "                        <td id=\"T_8591d9b0_51c4_11ec_b442_0242ac1c0002row2_col3\" class=\"data row2 col3\" >0.812500</td>\n",
              "                        <td id=\"T_8591d9b0_51c4_11ec_b442_0242ac1c0002row2_col4\" class=\"data row2 col4\" >0.898268</td>\n",
              "                        <td id=\"T_8591d9b0_51c4_11ec_b442_0242ac1c0002row2_col5\" class=\"data row2 col5\" >0.797619</td>\n",
              "                        <td id=\"T_8591d9b0_51c4_11ec_b442_0242ac1c0002row2_col6\" class=\"data row2 col6\" >0.851504</td>\n",
              "                        <td id=\"T_8591d9b0_51c4_11ec_b442_0242ac1c0002row2_col7\" class=\"data row2 col7\" >0.900000</td>\n",
              "                        <td id=\"T_8591d9b0_51c4_11ec_b442_0242ac1c0002row2_col8\" class=\"data row2 col8\" >0.831871</td>\n",
              "                        <td id=\"T_8591d9b0_51c4_11ec_b442_0242ac1c0002row2_col9\" class=\"data row2 col9\" >0.854167</td>\n",
              "            </tr>\n",
              "            <tr>\n",
              "                        <th id=\"T_8591d9b0_51c4_11ec_b442_0242ac1c0002level0_row3\" class=\"row_heading level0 row3\" >f1</th>\n",
              "                        <td id=\"T_8591d9b0_51c4_11ec_b442_0242ac1c0002row3_col0\" class=\"data row3 col0\" >0.869748</td>\n",
              "                        <td id=\"T_8591d9b0_51c4_11ec_b442_0242ac1c0002row3_col1\" class=\"data row3 col1\" >0.650735</td>\n",
              "                        <td id=\"T_8591d9b0_51c4_11ec_b442_0242ac1c0002row3_col2\" class=\"data row3 col2\" >0.931377</td>\n",
              "                        <td id=\"T_8591d9b0_51c4_11ec_b442_0242ac1c0002row3_col3\" class=\"data row3 col3\" >0.774503</td>\n",
              "                        <td id=\"T_8591d9b0_51c4_11ec_b442_0242ac1c0002row3_col4\" class=\"data row3 col4\" >0.893162</td>\n",
              "                        <td id=\"T_8591d9b0_51c4_11ec_b442_0242ac1c0002row3_col5\" class=\"data row3 col5\" >0.792202</td>\n",
              "                        <td id=\"T_8591d9b0_51c4_11ec_b442_0242ac1c0002row3_col6\" class=\"data row3 col6\" >0.850186</td>\n",
              "                        <td id=\"T_8591d9b0_51c4_11ec_b442_0242ac1c0002row3_col7\" class=\"data row3 col7\" >0.917921</td>\n",
              "                        <td id=\"T_8591d9b0_51c4_11ec_b442_0242ac1c0002row3_col8\" class=\"data row3 col8\" >0.806452</td>\n",
              "                        <td id=\"T_8591d9b0_51c4_11ec_b442_0242ac1c0002row3_col9\" class=\"data row3 col9\" >0.832680</td>\n",
              "            </tr>\n",
              "    </tbody></table>"
            ],
            "text/plain": [
              "<pandas.io.formats.style.Styler at 0x7f8b1bf5a790>"
            ]
          },
          "metadata": {},
          "execution_count": 32
        }
      ]
    }
  ]
}